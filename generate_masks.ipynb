{
 "cells": [
  {
   "attachments": {},
   "cell_type": "markdown",
   "metadata": {},
   "source": [
    "#### Imports are Necessary"
   ]
  },
  {
   "cell_type": "code",
   "execution_count": null,
   "metadata": {},
   "outputs": [],
   "source": [
    "import torch\n",
    "from rpn.build_rpn import RPN_Model\n",
    "from sam.build_sam import SAM_Model\n",
    "from data_builder.build_dataset import ParcelDataset\n",
    "import numpy as np\n",
    "import matplotlib.pyplot as plt\n",
    "import matplotlib.patches as patches"
   ]
  },
  {
   "attachments": {},
   "cell_type": "markdown",
   "metadata": {},
   "source": [
    "#### Usual Definition"
   ]
  },
  {
   "cell_type": "code",
   "execution_count": null,
   "metadata": {},
   "outputs": [],
   "source": [
    "ROOT_PATH = 'dataset/'\n",
    "device = torch.device('cuda') if torch.cuda.is_available() else torch.device('cpu')"
   ]
  },
  {
   "attachments": {},
   "cell_type": "markdown",
   "metadata": {},
   "source": [
    "#### Model Definition"
   ]
  },
  {
   "cell_type": "code",
   "execution_count": 3,
   "metadata": {},
   "outputs": [],
   "source": [
    "rpn_model = RPN_Model('rpn/checkpoint/rpn_model_1.14.pth', 2, device)\n",
    "sam_model = SAM_Model('sam/checkpoint/sam_vit_l_0b3195.pth', 'large', device)"
   ]
  },
  {
   "attachments": {},
   "cell_type": "markdown",
   "metadata": {},
   "source": [
    "#### Dataset Definition"
   ]
  },
  {
   "cell_type": "code",
   "execution_count": null,
   "metadata": {},
   "outputs": [],
   "source": [
    "dataset = ParcelDataset(ROOT_PATH, train=False)"
   ]
  },
  {
   "cell_type": "code",
   "execution_count": null,
   "metadata": {},
   "outputs": [],
   "source": [
    "rgb_image, transformed_image, target = dataset[3000]"
   ]
  },
  {
   "attachments": {},
   "cell_type": "markdown",
   "metadata": {},
   "source": [
    "#### Region Proposal Network"
   ]
  },
  {
   "cell_type": "code",
   "execution_count": null,
   "metadata": {},
   "outputs": [],
   "source": [
    "predictions = rpn_model.predict(transformed_image)\n",
    "predictions = rpn_model.postprocess(predictions, nms_threshold=0.9, score_threshold=0.6)"
   ]
  },
  {
   "attachments": {},
   "cell_type": "markdown",
   "metadata": {},
   "source": [
    "#### Segment Anything Model"
   ]
  },
  {
   "cell_type": "code",
   "execution_count": null,
   "metadata": {},
   "outputs": [],
   "source": [
    "low_res_masks, iou_predictions = sam_model.predict(rgb_image, predictions['boxes'])\n",
    "high_res_masks = sam_model.postprocess(low_res_masks, tuple(rgb_image.size))\n",
    "high_res_masks = high_res_masks.squeeze().cpu().numpy()"
   ]
  },
  {
   "attachments": {},
   "cell_type": "markdown",
   "metadata": {},
   "source": [
    "#### Plot the Predicted & Ground Truth Boxes"
   ]
  },
  {
   "cell_type": "code",
   "execution_count": null,
   "metadata": {},
   "outputs": [],
   "source": [
    "fig, ax = plt.subplots(1, 2, figsize=(10, 5))\n",
    "\n",
    "ax[0].imshow(rgb_image)\n",
    "ax[0].set_xlabel('Ground Truth')\n",
    "\n",
    "for i in range (len(target['boxes'])):\n",
    "    xmin = target['boxes'][i][0]\n",
    "    \n",
    "    ymin = target['boxes'][i][1]\n",
    "    xmax = target['boxes'][i][2]\n",
    "    ymax = target['boxes'][i][3]\n",
    "    rect = patches.Rectangle((xmin, ymin), xmax-xmin, ymax-ymin, linewidth=1, edgecolor='r', facecolor='none')\n",
    "    ax[0].add_patch(rect)\n",
    "\n",
    "ax[1].imshow(rgb_image)\n",
    "ax[1].set_xlabel('Predicted')\n",
    "\n",
    "for i in range (len(predictions['boxes'])):\n",
    "    xmin = predictions['boxes'][i][0]\n",
    "    ymin = predictions['boxes'][i][1]\n",
    "    xmax = predictions['boxes'][i][2]\n",
    "    ymax = predictions['boxes'][i][3]\n",
    "    rect = patches.Rectangle((xmin, ymin), xmax-xmin, ymax-ymin, linewidth=1, edgecolor='r', facecolor='none')\n",
    "    ax[1].add_patch(rect)\n",
    "\n",
    "plt.show()"
   ]
  },
  {
   "attachments": {},
   "cell_type": "markdown",
   "metadata": {},
   "source": [
    "#### Plot the Predicted & Ground Truth Masks"
   ]
  },
  {
   "cell_type": "code",
   "execution_count": null,
   "metadata": {},
   "outputs": [],
   "source": [
    "cumulative_high_mask = np.zeros(tuple(rgb_image.size), dtype=np.uint8)\n",
    "\n",
    "delta_pred_mask = 255 // len(high_res_masks)\n",
    "\n",
    "for i, mask in enumerate(high_res_masks):\n",
    "    cumulative_high_mask[mask > 0] = (i + 1)*delta_pred_mask\n",
    "\n",
    "\n",
    "cumulative_gt_mask = np.zeros(tuple(rgb_image.size), dtype=np.uint8)\n",
    "delta = 100 // len(target['masks'])\n",
    "\n",
    "for i, mask in enumerate(target['masks']):\n",
    "    cumulative_gt_mask[mask > 0] = (i + 1)*delta\n",
    "\n",
    "\n",
    "#Plot both masks\n",
    "fig, ax = plt.subplots(1,2, figsize=(10,5))\n",
    "ax[0].imshow(cumulative_gt_mask, cmap='jet')\n",
    "ax[0].set_xlabel('Ground Truth')\n",
    "\n",
    "ax[1].imshow(cumulative_high_mask, cmap='jet')\n",
    "ax[1].set_xlabel('Predicted')\n",
    "\n",
    "plt.show()"
   ]
  }
 ],
 "metadata": {
  "kernelspec": {
   "display_name": "dl4cv",
   "language": "python",
   "name": "python3"
  },
  "language_info": {
   "codemirror_mode": {
    "name": "ipython",
    "version": 3
   },
   "file_extension": ".py",
   "mimetype": "text/x-python",
   "name": "python",
   "nbconvert_exporter": "python",
   "pygments_lexer": "ipython3",
   "version": "3.9.17"
  },
  "orig_nbformat": 4
 },
 "nbformat": 4,
 "nbformat_minor": 2
}
