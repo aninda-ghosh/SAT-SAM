{
 "cells": [
  {
   "cell_type": "code",
   "execution_count": 1,
   "metadata": {},
   "outputs": [
    {
     "name": "stderr",
     "output_type": "stream",
     "text": [
      "/home/aghosh57/.conda/envs/dl4cv/lib/python3.9/site-packages/tqdm/auto.py:21: TqdmWarning: IProgress not found. Please update jupyter and ipywidgets. See https://ipywidgets.readthedocs.io/en/stable/user_install.html\n",
      "  from .autonotebook import tqdm as notebook_tqdm\n"
     ]
    }
   ],
   "source": [
    "import torch\n",
    "from torch.utils.data import DataLoader\n",
    "\n",
    "import numpy as np\n",
    "\n",
    "from rpn.build_rpn import RPN_Model\n",
    "from sam.build_sam import SAM_Model\n",
    "from transformers import pipeline\n",
    "\n",
    "from data_builder.build_dataset import PlanetscopeDataset\n",
    "\n",
    "import os\n",
    "import time\n",
    "import json\n",
    "\n",
    "from eval_utils import filter_boxes, calculate_iou, calculate_precision_recall, filter_masks\n",
    "\n",
    "import pandas as pd\n",
    "from rpn import _transforms as T\n",
    "from torch.utils.data import ConcatDataset"
   ]
  },
  {
   "cell_type": "code",
   "execution_count": 2,
   "metadata": {},
   "outputs": [],
   "source": [
    "def get_transform(image_enhancement=\"FALSE\"):\n",
    "    transforms = []\n",
    "    # converts the image, a PIL image, into a PyTorch Tensor\n",
    "    if image_enhancement == \"TRUE\":\n",
    "        transforms.append(T.ContrastBasedAdaptiveGammaCorrection())\n",
    "    transforms.append(T.ToTensor())\n",
    "    return T.Compose(transforms)"
   ]
  },
  {
   "cell_type": "markdown",
   "metadata": {},
   "source": [
    "#### Read and Print the evaluation config from the JSON file"
   ]
  },
  {
   "cell_type": "code",
   "execution_count": 3,
   "metadata": {},
   "outputs": [
    {
     "name": "stdout",
     "output_type": "stream",
     "text": [
      "Evaluation Configuration\n",
      "{\n",
      " \"DATASET1_PATH\": \"/scratch/aghosh57/SAT-SAM(Dataset)/ps_france/all_dataset/\",\n",
      " \"DATASET1\": \"FRANCE\",\n",
      " \"DATASET2_PATH\": \"/scratch/aghosh57/SAT-SAM(Dataset)/ps_france/all_dataset/\",\n",
      " \"DATASET2\": \"RWANDA\",\n",
      " \"MODEL\": \"SAM\",\n",
      " \"IMAGE_ENHANCEMENT\": \"FALSE\",\n",
      " \"FILTRATION\": \"TRUE\",\n",
      " \"TRAIN_TYPE\": \"FINETUNE\",\n",
      " \"NMS_THRESHOLD\": 0.9,\n",
      " \"PRED_CONFIDENCE_THRESHOLD\": 0.6,\n",
      " \"ENSEMBLE_BOX_OVERLAP_THRESHOLD\": 0.5,\n",
      " \"ENSEMBLE_BOX_BETA\": 0.4,\n",
      " \"RPN_MODEL_PATH\": \"rpn/checkpoints/1691966357/rpn_model_1.32.pth\",\n",
      " \"SAM_MODEL_PATH\": \"sam/checkpoint/sam_vit_l_0b3195.pth\"\n",
      "}\n"
     ]
    }
   ],
   "source": [
    "#Create a folder with unix timestamp\n",
    "root_path = os.getcwd() + '/results/' + str(int(time.time())) + '/'\n",
    "os.mkdir(root_path)\n",
    "\n",
    "with open('eval_config.json', 'r') as f:\n",
    "    eval_config = json.load(f)\n",
    "\n",
    "\n",
    "print(\"Evaluation Configuration\")\n",
    "print(json.dumps(eval_config, indent=1))"
   ]
  },
  {
   "cell_type": "markdown",
   "metadata": {},
   "source": [
    "#### Set the device and load the dataset for evaluation"
   ]
  },
  {
   "cell_type": "code",
   "execution_count": 4,
   "metadata": {},
   "outputs": [],
   "source": [
    "device = torch.device('cuda') if torch.cuda.is_available() else torch.device('cpu')\n",
    "\n",
    "dataset1_test = PlanetscopeDataset(eval_config['DATASET1_PATH'], get_transform(image_enhancement=eval_config['IMAGE_ENHANCEMENT']))\n",
    "dataset2_test = PlanetscopeDataset(eval_config['DATASET2_PATH'], get_transform(image_enhancement=eval_config['IMAGE_ENHANCEMENT']))\n",
    "\n",
    "dataset_test = ConcatDataset([dataset1_test, dataset2_test])\n",
    "\n",
    "torch.manual_seed(1)\n",
    "indices = torch.randperm(len(dataset_test)).tolist()\n",
    "dataset_test = torch.utils.data.Subset(dataset_test, indices[-int(len(indices)*0.2):])"
   ]
  },
  {
   "cell_type": "markdown",
   "metadata": {},
   "source": [
    "#### Load the proper model to be used for evaluation"
   ]
  },
  {
   "cell_type": "code",
   "execution_count": 5,
   "metadata": {},
   "outputs": [],
   "source": [
    "if eval_config['MODEL'] == 'SAT-SAM':\n",
    "    rpn_model = RPN_Model(eval_config['RPN_MODEL_PATH'], 2, device, eval_config['TRAIN_TYPE'])\n",
    "    sam_model = SAM_Model(eval_config['SAM_MODEL_PATH'], 'large', device)\n",
    "elif eval_config['MODEL'] == 'SAM':\n",
    "    vanilla_sam_model = pipeline(\"mask-generation\", model=\"facebook/sam-vit-large\", device=device)\n",
    "elif eval_config['MODEL'] == 'MASKRCNN':\n",
    "    maskrcnn_model = RPN_Model(eval_config['RPN_MODEL_PATH'], 2, device, eval_config['TRAIN_TYPE']) #Load the Pre-Trained MaskRCNN model"
   ]
  },
  {
   "cell_type": "code",
   "execution_count": 6,
   "metadata": {},
   "outputs": [
    {
     "name": "stdout",
     "output_type": "stream",
     "text": [
      "SAM\n",
      "num_target_masks:  14\n",
      "num_predicted_masks:  20\n",
      "row_ind:  [ 0  1  2  3  4  5  6  7  8  9 10 11 12 13]\n",
      "col_ind:  [11  8 12 19 16  0  1  4 13 15  3  6  5  2]\n",
      "Image Id:  2072  Average IoU Score:  0.33\n",
      "IoU Matrix:  [0.78688745 0.30245475 0.81934847 0.02213466 0.7412176  0.\n",
      " 0.41461752 0.         0.00114416 0.54875169 0.95510246 0.\n",
      " 0.         0.04372061]\n",
      "Precision:  0.25 0.2 0.05\n",
      "Recall:  0.36 0.29 0.07\n",
      "SAM\n",
      "num_target_masks:  13\n",
      "num_predicted_masks:  43\n",
      "row_ind:  [ 0  1  2  3  4  5  6  7  8  9 10 11 12]\n",
      "col_ind:  [ 9 17  2 24  8  1 13  4 16  7 36 10 19]\n",
      "Image Id:  1306  Average IoU Score:  0.65\n",
      "IoU Matrix:  [9.32900433e-01 2.05175601e-01 8.92612649e-01 6.95345858e-01\n",
      " 7.44688735e-01 0.00000000e+00 7.94004107e-01 8.88192729e-01\n",
      " 4.76084641e-01 8.93612185e-01 5.26038927e-04 9.31718842e-01\n",
      " 9.58179667e-01]\n",
      "Precision:  0.21 0.19 0.07\n",
      "Recall:  0.69 0.62 0.23\n",
      "SAM\n",
      "num_target_masks:  16\n",
      "num_predicted_masks:  14\n",
      "row_ind:  [ 0  1  2  3  4  5  6  7  8  9 10 11 14 15]\n",
      "col_ind:  [ 0  5  4 10  6  7  2 12 13  1 11  3  8  9]\n",
      "Image Id:  3363  Average IoU Score:  0.26\n",
      "IoU Matrix:  [0.90306122 0.00218914 0.82526745 0.04334227 0.         0.\n",
      " 0.         0.         0.         0.65924189 0.02194774 0.49056414\n",
      " 0.00264384 0.64724576]\n",
      "Precision:  0.29 0.14 0.07\n",
      "Recall:  0.25 0.12 0.06\n",
      "SAM\n",
      "num_target_masks:  7\n",
      "num_predicted_masks:  3\n",
      "row_ind:  [0 5 6]\n",
      "col_ind:  [1 2 0]\n",
      "Image Id:  5840  Average IoU Score:  0.59\n",
      "IoU Matrix:  [0.84881395 0.92519084 0.00855491]\n",
      "Precision:  0.67 0.67 0.33\n",
      "Recall:  0.29 0.29 0.14\n",
      "SAM\n",
      "num_target_masks:  15\n",
      "num_predicted_masks:  36\n",
      "row_ind:  [ 0  1  2  3  4  5  6  7  8  9 10 11 12 13 14]\n",
      "col_ind:  [32  0 13 19  5  8  1 26  3 17 11 14  2 35 12]\n",
      "Image Id:  265  Average IoU Score:  0.76\n",
      "IoU Matrix:  [0.28044999 0.87387701 0.88886878 0.88594669 0.95612895 0.91530868\n",
      " 0.87982981 0.93334679 0.         0.27468239 0.8906342  0.85678471\n",
      " 0.92510361 0.95562762 0.94363341]\n",
      "Precision:  0.33 0.33 0.17\n",
      "Recall:  0.8 0.8 0.4\n",
      "SAM\n",
      "num_target_masks:  81\n",
      "num_predicted_masks:  39\n",
      "row_ind:  [ 0  1  2  3  4  5  6  7  8  9 10 11 12 13 23 27 28 29 39 43 53 55 60 62\n",
      " 63 64 65 66 67 68 69 70 72 73 74 75 77 78 80]\n",
      "col_ind:  [ 4 24  8 11 19 20 28 25 30  7 17 13 29 38  9 22 27 23 12 16 37  5  1 33\n",
      "  2 10 35 18 21 32  6 31 26  0 34 36 14 15  3]\n",
      "Image Id:  471  Average IoU Score:  0.33\n",
      "IoU Matrix:  [0.00000000e+00 1.37152077e-02 0.00000000e+00 0.00000000e+00\n",
      " 1.71428571e-01 0.00000000e+00 0.00000000e+00 4.19263456e-01\n",
      " 0.00000000e+00 8.66071429e-01 7.83687943e-01 6.51593011e-01\n",
      " 0.00000000e+00 0.00000000e+00 4.40851735e-01 2.85234899e-02\n",
      " 2.11660330e-01 9.53188055e-01 1.56108108e-01 7.96610169e-01\n",
      " 1.16801438e-02 7.67034991e-01 2.41896468e-03 8.76528117e-01\n",
      " 5.62358277e-01 7.95518207e-01 1.67657551e-01 6.59014180e-01\n",
      " 5.99644128e-01 8.37170364e-04 6.36266524e-01 5.20681265e-01\n",
      " 2.85282258e-01 6.80806494e-04 3.52595495e-02 4.39198463e-03\n",
      " 1.13861386e-01 9.66220360e-01 2.00452148e-01]\n",
      "Precision:  0.36 0.21 0.05\n",
      "Recall:  0.17 0.1 0.02\n",
      "SAM\n",
      "num_target_masks:  9\n",
      "num_predicted_masks:  17\n",
      "row_ind:  [0 1 2 3 4 5 6 7 8]\n",
      "col_ind:  [13  4  2  5  6  1  3  0 10]\n",
      "Image Id:  3046  Average IoU Score:  0.59\n",
      "IoU Matrix:  [0.1147541  0.95628832 0.94418718 0.95750336 0.36825363 0.46675741\n",
      " 0.         0.96378072 0.52416607]\n",
      "Precision:  0.29 0.24 0.24\n",
      "Recall:  0.56 0.44 0.44\n",
      "SAM\n",
      "num_target_masks:  11\n",
      "num_predicted_masks:  35\n",
      "row_ind:  [ 0  1  2  3  4  5  6  7  8  9 10]\n",
      "col_ind:  [25  6  1 16 21  7 10 13  0  5 14]\n",
      "Image Id:  1143  Average IoU Score:  0.66\n",
      "IoU Matrix:  [0.84844607 0.50561134 0.         0.55573715 0.87129243 0.85023345\n",
      " 0.81241685 0.1744186  0.93797977 0.85302594 0.85902957]\n",
      "Precision:  0.26 0.2 0.03\n",
      "Recall:  0.82 0.64 0.09\n",
      "SAM\n",
      "num_target_masks:  81\n",
      "num_predicted_masks:  70\n",
      "row_ind:  [ 0  1  2  3  4  5  6  7  8  9 10 11 12 13 14 15 16 17 18 19 20 21 22 23\n",
      " 24 25 26 27 28 29 30 31 32 33 34 35 36 37 38 39 40 41 42 43 44 45 46 47\n",
      " 48 51 52 53 54 55 56 58 59 60 61 65 66 67 68 69 70 71 72 74 78 79]\n",
      "col_ind:  [33 27 45 24 42 19 28 32  2 34  3 48 25 31 43  1 21 44 46 47 58 64 50  4\n",
      " 52 55 37 57 10 41 68 61 62 63 26 39 18 49 65 29  0 20 66 67 60 59 69  5\n",
      " 40  6 14 12 38 16 15 11  7 54  8 56 36 35 23 53 22  9 13 30 17 51]\n",
      "Image Id:  5195  Average IoU Score:  0.39\n",
      "IoU Matrix:  [0.4622871  0.45419255 0.3623298  0.         0.68231612 0.\n",
      " 0.         0.         0.         0.         0.87755973 0.26217228\n",
      " 0.         0.68314256 0.         0.         0.         0.4902027\n",
      " 0.         0.         0.15629499 0.56728395 0.         0.90587163\n",
      " 0.         0.         0.70721527 0.         0.90863347 0.\n",
      " 0.20192308 0.         0.         0.         0.8720524  0.69379015\n",
      " 0.72771251 0.         0.         0.80391061 0.88602212 0.09688013\n",
      " 0.         0.         0.         0.83245021 0.         0.92900172\n",
      " 0.84089457 0.93692985 0.96095139 0.00142463 0.74870838 0.92339008\n",
      " 0.94903846 0.16199321 0.0028585  0.92447419 0.89690014 0.04271845\n",
      " 0.86635404 0.8501171  0.95229301 0.05755396 0.74624625 0.92881471\n",
      " 0.74279379 0.91949911 0.01065909 0.19367397]\n",
      "Precision:  0.41 0.36 0.16\n",
      "Recall:  0.36 0.31 0.14\n",
      "SAM\n",
      "num_target_masks:  50\n",
      "num_predicted_masks:  39\n",
      "row_ind:  [ 0  1  2  3  4  5  6  7  8  9 10 11 12 13 14 15 16 17 18 19 20 21 22 23\n",
      " 25 26 27 28 30 32 36 38 39 41 42 43 46 48 49]\n",
      "col_ind:  [ 7  0 24 21  3  1 23 26 31 11 14  5  6 27 18 16 25 17 35  9 28 32 38 12\n",
      " 33 30  2 13 34 36  8 15 37  4 29 19 10 20 22]\n",
      "Image Id:  6336  Average IoU Score:  0.34\n",
      "IoU Matrix:  [0.         0.         0.00282087 0.         0.69365427 0.\n",
      " 0.39058824 0.         0.81466773 0.03096495 0.04769828 0.79393522\n",
      " 0.67552534 0.         0.03705558 0.37495268 0.76357102 0.70597197\n",
      " 0.65844859 0.89390244 0.         0.         0.         0.03111354\n",
      " 0.01       0.00813008 0.87397421 0.56865564 0.70239774 0.14255091\n",
      " 0.08903302 0.79247977 0.06232062 0.78816467 0.01466433 0.33268608\n",
      " 0.88764846 0.18142145 0.74297066]\n",
      "Precision:  0.38 0.28 0.0\n",
      "Recall:  0.3 0.22 0.0\n",
      "SAM\n"
     ]
    },
    {
     "name": "stderr",
     "output_type": "stream",
     "text": [
      "/home/aghosh57/.conda/envs/dl4cv/lib/python3.9/site-packages/transformers/pipelines/base.py:1090: UserWarning: You seem to be using the pipelines sequentially on GPU. In order to maximize efficiency please use a dataset\n",
      "  warnings.warn(\n"
     ]
    },
    {
     "name": "stdout",
     "output_type": "stream",
     "text": [
      "num_target_masks:  14\n",
      "num_predicted_masks:  31\n",
      "row_ind:  [ 0  1  2  3  4  5  6  7  8  9 10 11 12 13]\n",
      "col_ind:  [ 3  2 25  7 22 10 20 11 12 16 30 15  1 19]\n",
      "Image Id:  124  Average IoU Score:  0.45\n",
      "IoU Matrix:  [7.69334439e-01 7.80004661e-01 1.38297872e-01 6.90997567e-01\n",
      " 1.51649434e-01 4.19986024e-01 8.65273683e-03 8.01061008e-01\n",
      " 8.94556962e-01 7.87940208e-02 3.45661943e-04 4.86513321e-02\n",
      " 7.19094602e-01 8.00866635e-01]\n",
      "Precision:  0.23 0.19 0.0\n",
      "Recall:  0.5 0.43 0.0\n",
      "SAM\n"
     ]
    },
    {
     "name": "stderr",
     "output_type": "stream",
     "text": [
      "/home/aghosh57/.conda/envs/dl4cv/lib/python3.9/site-packages/transformers/pipelines/base.py:1090: UserWarning: You seem to be using the pipelines sequentially on GPU. In order to maximize efficiency please use a dataset\n",
      "  warnings.warn(\n"
     ]
    },
    {
     "name": "stdout",
     "output_type": "stream",
     "text": [
      "num_target_masks:  15\n",
      "num_predicted_masks:  24\n",
      "row_ind:  [ 0  1  2  3  4  5  6  7  8  9 10 11 12 13 14]\n",
      "col_ind:  [18  9  1 11  6  3  2  8  5  7  4 13 10  0 12]\n",
      "Image Id:  1411  Average IoU Score:  0.45\n",
      "IoU Matrix:  [0.69990975 0.63160778 0.92222859 0.         0.83236321 0.88934982\n",
      " 0.         0.         0.         0.         0.9092219  0.92602448\n",
      " 0.         0.94635119 0.        ]\n",
      "Precision:  0.33 0.25 0.17\n",
      "Recall:  0.53 0.4 0.27\n",
      "SAM\n"
     ]
    },
    {
     "name": "stderr",
     "output_type": "stream",
     "text": [
      "/home/aghosh57/.conda/envs/dl4cv/lib/python3.9/site-packages/transformers/pipelines/base.py:1090: UserWarning: You seem to be using the pipelines sequentially on GPU. In order to maximize efficiency please use a dataset\n",
      "  warnings.warn(\n"
     ]
    },
    {
     "name": "stdout",
     "output_type": "stream",
     "text": [
      "num_target_masks:  43\n",
      "num_predicted_masks:  54\n",
      "row_ind:  [ 0  1  2  3  4  5  6  7  8  9 10 11 12 13 14 15 16 17 18 19 20 21 22 23\n",
      " 24 25 26 27 28 29 30 31 32 33 34 35 36 37 38 39 40 41 42]\n",
      "col_ind:  [19  3  7  1 34 39 31 23 20 32 18 16  4 53  2 10 24 29 13 28 15  0 38 48\n",
      " 27 25 35  6 26 36  8 33 22 14 40 12 37 30  5  9 17 21 11]\n",
      "Image Id:  4446  Average IoU Score:  0.49\n",
      "IoU Matrix:  [0.76201923 0.92612899 0.61820652 0.         0.         0.\n",
      " 0.57997218 0.         0.         0.         0.         0.90027701\n",
      " 0.93238866 0.84750248 0.96049952 0.85106383 0.76635146 0.\n",
      " 0.         0.         0.         0.65572645 0.36745887 0.72239859\n",
      " 0.77373185 0.02849423 0.22935441 0.94611271 0.         0.\n",
      " 0.90449438 0.         0.53731343 0.83074612 0.90150934 0.87261674\n",
      " 0.65885417 0.         0.94098531 0.88268908 0.85637149 0.91268534\n",
      " 0.84697609]\n",
      "Precision:  0.46 0.37 0.17\n",
      "Recall:  0.58 0.47 0.21\n",
      "SAM\n"
     ]
    },
    {
     "name": "stderr",
     "output_type": "stream",
     "text": [
      "/home/aghosh57/.conda/envs/dl4cv/lib/python3.9/site-packages/transformers/pipelines/base.py:1090: UserWarning: You seem to be using the pipelines sequentially on GPU. In order to maximize efficiency please use a dataset\n",
      "  warnings.warn(\n"
     ]
    },
    {
     "name": "stdout",
     "output_type": "stream",
     "text": [
      "num_target_masks:  32\n",
      "num_predicted_masks:  38\n",
      "row_ind:  [ 0  1  2  3  4  5  6  7  8  9 10 11 12 13 14 15 16 17 18 19 20 21 22 23\n",
      " 24 25 26 27 28 29 30 31]\n",
      "col_ind:  [ 1 28 11  2  3  8  5 14 29 24 17 15 30 23 12  0  6 10 25  9 18 19 20 21\n",
      " 36 27 13 26 16  7  4 22]\n",
      "Image Id:  2569  Average IoU Score:  0.15\n",
      "IoU Matrix:  [0.         0.         0.         0.         0.         0.00978368\n",
      " 0.         0.         0.15384615 0.         0.         0.\n",
      " 0.         0.83647175 0.         0.37820349 0.09668213 0.06489586\n",
      " 0.         0.75928918 0.         0.         0.         0.\n",
      " 0.2528626  0.85428051 0.49234694 0.         0.00250327 0.82637954\n",
      " 0.00470821 0.06101477]\n",
      "Precision:  0.11 0.11 0.0\n",
      "Recall:  0.12 0.12 0.0\n",
      "SAM\n"
     ]
    },
    {
     "name": "stderr",
     "output_type": "stream",
     "text": [
      "/home/aghosh57/.conda/envs/dl4cv/lib/python3.9/site-packages/transformers/pipelines/base.py:1090: UserWarning: You seem to be using the pipelines sequentially on GPU. In order to maximize efficiency please use a dataset\n",
      "  warnings.warn(\n"
     ]
    },
    {
     "name": "stdout",
     "output_type": "stream",
     "text": [
      "num_target_masks:  34\n",
      "num_predicted_masks:  45\n",
      "row_ind:  [ 0  1  2  3  4  5  6  7  8  9 10 11 12 13 14 15 16 17 18 19 20 21 22 23\n",
      " 24 25 26 27 28 29 30 31 32 33]\n",
      "col_ind:  [29 26 12 31  2 20 27  6  1 24  7 13 44  4 14 38  5 11 43 10 21  8 22 23\n",
      " 15 19  9 17 18 16 41 25  0  3]\n",
      "Image Id:  1472  Average IoU Score:  0.39\n",
      "IoU Matrix:  [6.96174377e-01 0.00000000e+00 8.08289007e-01 1.20051086e-02\n",
      " 4.34276206e-01 6.75826535e-01 6.74721190e-01 8.77037423e-01\n",
      " 0.00000000e+00 0.00000000e+00 0.00000000e+00 9.07632523e-01\n",
      " 1.48706897e-01 8.38934598e-01 3.27890353e-04 4.80292294e-01\n",
      " 8.99371069e-01 0.00000000e+00 4.16666667e-02 0.00000000e+00\n",
      " 0.00000000e+00 6.60534781e-01 8.19072748e-01 0.00000000e+00\n",
      " 6.65050225e-01 3.97427653e-01 9.52316169e-01 0.00000000e+00\n",
      " 0.00000000e+00 5.58415774e-01 8.81226054e-02 8.16102564e-01\n",
      " 2.20750552e-03 9.57262310e-01]\n",
      "Precision:  0.33 0.2 0.07\n",
      "Recall:  0.44 0.26 0.09\n",
      "SAM\n"
     ]
    },
    {
     "name": "stderr",
     "output_type": "stream",
     "text": [
      "/home/aghosh57/.conda/envs/dl4cv/lib/python3.9/site-packages/transformers/pipelines/base.py:1090: UserWarning: You seem to be using the pipelines sequentially on GPU. In order to maximize efficiency please use a dataset\n",
      "  warnings.warn(\n"
     ]
    },
    {
     "name": "stdout",
     "output_type": "stream",
     "text": [
      "num_target_masks:  40\n",
      "num_predicted_masks:  50\n",
      "row_ind:  [ 0  1  2  3  4  5  6  7  8  9 10 11 12 13 14 15 16 17 18 19 20 21 22 23\n",
      " 24 25 26 27 28 29 30 31 32 33 34 35 36 37 38 39]\n",
      "col_ind:  [23 16  6  0  2 34 37 42 35  1 21 33 20 31  5 13 22 18  7 11 10  9 26  8\n",
      " 36 14 15 29 39 19  3  4 27 17 24 25 32 28 30 12]\n",
      "Image Id:  5899  Average IoU Score:  0.27\n",
      "IoU Matrix:  [0.22139085 0.82250175 0.71054926 0.         0.90897677 0.78538813\n",
      " 0.55722856 0.11260426 0.48157895 0.         0.         0.44691908\n",
      " 0.         0.39772727 0.         0.26443418 0.37237049 0.46693529\n",
      " 0.         0.         0.         0.50878704 0.         0.92408869\n",
      " 0.40924092 0.         0.         0.01694915 0.4875     0.\n",
      " 0.00526177 0.75829384 0.19285714 0.79728419 0.         0.\n",
      " 0.         0.         0.         0.26191878]\n",
      "Precision:  0.18 0.14 0.04\n",
      "Recall:  0.23 0.17 0.05\n",
      "SAM\n"
     ]
    },
    {
     "name": "stderr",
     "output_type": "stream",
     "text": [
      "/home/aghosh57/.conda/envs/dl4cv/lib/python3.9/site-packages/transformers/pipelines/base.py:1090: UserWarning: You seem to be using the pipelines sequentially on GPU. In order to maximize efficiency please use a dataset\n",
      "  warnings.warn(\n"
     ]
    },
    {
     "name": "stdout",
     "output_type": "stream",
     "text": [
      "num_target_masks:  32\n",
      "num_predicted_masks:  52\n",
      "row_ind:  [ 0  1  2  3  4  5  6  7  8  9 10 11 12 13 14 15 16 17 18 19 20 21 22 23\n",
      " 24 25 26 27 28 29 30 31]\n",
      "col_ind:  [ 6 10 47  0 37  1  7 30  5 13  9 29 17 46 22  4 50 27 16 21 51 35 14 28\n",
      " 39 26 11 24 18  8  3  2]\n",
      "Image Id:  3356  Average IoU Score:  0.47\n",
      "IoU Matrix:  [0.         0.73463455 0.06018519 0.81330049 0.63705584 0.\n",
      " 0.         0.1137931  0.68027211 0.92021858 0.         0.70885529\n",
      " 0.96586946 0.0167269  0.8723155  0.         0.36314944 0.33557047\n",
      " 0.52155326 0.72762646 0.30945872 0.00175747 0.2422589  0.00110497\n",
      " 0.15263158 0.83212996 0.84172004 0.63125814 0.91014683 0.8949761\n",
      " 0.96494208 0.9002121 ]\n",
      "Precision:  0.33 0.25 0.1\n",
      "Recall:  0.53 0.41 0.16\n",
      "SAM\n"
     ]
    },
    {
     "name": "stderr",
     "output_type": "stream",
     "text": [
      "/home/aghosh57/.conda/envs/dl4cv/lib/python3.9/site-packages/transformers/pipelines/base.py:1090: UserWarning: You seem to be using the pipelines sequentially on GPU. In order to maximize efficiency please use a dataset\n",
      "  warnings.warn(\n"
     ]
    },
    {
     "name": "stdout",
     "output_type": "stream",
     "text": [
      "num_target_masks:  21\n",
      "num_predicted_masks:  0\n",
      "row_ind:  []\n",
      "col_ind:  []\n",
      "Error in image:  6350\n",
      "SAM\n",
      "num_target_masks:  44\n",
      "num_predicted_masks:  54\n",
      "row_ind:  [ 0  1  2  3  4  5  6  7  8  9 10 11 12 13 14 15 16 17 18 19 20 21 22 23\n",
      " 24 25 26 27 28 29 30 31 32 33 34 35 36 37 38 39 40 41 42 43]\n",
      "col_ind:  [ 8 25 26 40 41  4 28 18  6 15  7 31 11 10 17  2 34 12 13 42 38  0 14 24\n",
      " 29 20 32 33  9 39 30 21 35 37 16  1 23 27  5 19 36 53 22  3]\n",
      "Image Id:  4029  Average IoU Score:  0.32\n",
      "IoU Matrix:  [0.00000000e+00 0.00000000e+00 0.00000000e+00 1.58831004e-01\n",
      " 0.00000000e+00 0.00000000e+00 0.00000000e+00 7.50102669e-01\n",
      " 8.74519846e-01 8.95635674e-01 0.00000000e+00 5.11247444e-04\n",
      " 0.00000000e+00 0.00000000e+00 2.50814332e-01 9.01154401e-01\n",
      " 7.53464624e-01 0.00000000e+00 0.00000000e+00 2.63543192e-03\n",
      " 4.01040162e-01 8.94272408e-01 0.00000000e+00 0.00000000e+00\n",
      " 0.00000000e+00 0.00000000e+00 3.77285103e-02 8.29667429e-01\n",
      " 7.23608769e-01 0.00000000e+00 1.32770815e-02 9.61975309e-01\n",
      " 9.55414013e-02 4.56208882e-01 7.37400000e-01 9.14234396e-01\n",
      " 4.66355763e-03 0.00000000e+00 8.48141767e-01 9.15752351e-01\n",
      " 0.00000000e+00 4.74276527e-02 8.10416121e-01 8.80461377e-01]\n",
      "Precision:  0.28 0.28 0.07\n",
      "Recall:  0.34 0.34 0.09\n",
      "SAM\n"
     ]
    },
    {
     "name": "stderr",
     "output_type": "stream",
     "text": [
      "/home/aghosh57/.conda/envs/dl4cv/lib/python3.9/site-packages/transformers/pipelines/base.py:1090: UserWarning: You seem to be using the pipelines sequentially on GPU. In order to maximize efficiency please use a dataset\n",
      "  warnings.warn(\n"
     ]
    },
    {
     "name": "stdout",
     "output_type": "stream",
     "text": [
      "num_target_masks:  6\n",
      "num_predicted_masks:  9\n",
      "row_ind:  [0 1 2 3 4 5]\n",
      "col_ind:  [2 1 3 8 0 4]\n",
      "Image Id:  721  Average IoU Score:  0.23\n",
      "IoU Matrix:  [0.         0.         0.         0.42373323 0.95774526 0.        ]\n",
      "Precision:  0.11 0.11 0.11\n",
      "Recall:  0.17 0.17 0.17\n",
      "SAM\n"
     ]
    },
    {
     "name": "stderr",
     "output_type": "stream",
     "text": [
      "/home/aghosh57/.conda/envs/dl4cv/lib/python3.9/site-packages/transformers/pipelines/base.py:1090: UserWarning: You seem to be using the pipelines sequentially on GPU. In order to maximize efficiency please use a dataset\n",
      "  warnings.warn(\n"
     ]
    },
    {
     "name": "stdout",
     "output_type": "stream",
     "text": [
      "num_target_masks:  106\n",
      "num_predicted_masks:  46\n",
      "row_ind:  [  0   1   2   3   4   5   6   7   8   9  10  11  12  13  14  15  16  17\n",
      "  18  19  20  21  22  23  32  39  45  46  47  48  50  51  52  53  58  63\n",
      "  65  67  70  72  74  80  81  95  97 104]\n",
      "col_ind:  [ 6 11 41 25 27 16  1  2 29  8  3  0 30 18 31 12  9 33 37 40 15 43 44 45\n",
      " 13  5  4 14 32  7 21 42 39 20 17 26 10 35 38 28 19 34 22 36 24 23]\n",
      "Image Id:  3172  Average IoU Score:  0.28\n",
      "IoU Matrix:  [0.         0.         0.25600663 0.         0.         0.\n",
      " 0.84851752 0.3715512  0.1124871  0.         0.20245689 0.93375242\n",
      " 0.         0.508519   0.         0.42227979 0.31732933 0.\n",
      " 0.         0.         0.         0.         0.         0.\n",
      " 0.15695067 0.1948912  0.91226693 0.77839204 0.77077077 0.69083624\n",
      " 0.30880929 0.56867515 0.01152975 0.56408499 0.23001926 0.45801938\n",
      " 0.75679348 0.13980583 0.0055788  0.83498647 0.09184119 0.04942339\n",
      " 0.36400818 0.55540721 0.24293059 0.00953895]\n",
      "Precision:  0.26 0.15 0.04\n",
      "Recall:  0.11 0.07 0.02\n",
      "SAM\n"
     ]
    },
    {
     "name": "stderr",
     "output_type": "stream",
     "text": [
      "/home/aghosh57/.conda/envs/dl4cv/lib/python3.9/site-packages/transformers/pipelines/base.py:1090: UserWarning: You seem to be using the pipelines sequentially on GPU. In order to maximize efficiency please use a dataset\n",
      "  warnings.warn(\n"
     ]
    },
    {
     "name": "stdout",
     "output_type": "stream",
     "text": [
      "num_target_masks:  33\n",
      "num_predicted_masks:  49\n",
      "row_ind:  [ 0  1  2  3  4  5  6  7  8  9 10 11 12 13 14 15 16 17 18 19 20 21 22 23\n",
      " 24 25 26 27 28 29 30 31 32]\n",
      "col_ind:  [46 15  7 16 25 14 19 23 13  6  2 20 12 29 18  5 11 36  3 17 27 26  4 30\n",
      "  8 10  0 21 24 22  1 28  9]\n",
      "Image Id:  5683  Average IoU Score:  0.5\n",
      "IoU Matrix:  [0.90978817 0.88768719 0.10067114 0.01767389 0.         0.932445\n",
      " 0.93309545 0.91876248 0.90859077 0.         0.93719882 0.\n",
      " 0.02108158 0.82768778 0.         0.         0.00952381 0.82758621\n",
      " 0.94546023 0.         0.         0.86954459 0.94229611 0.83940853\n",
      " 0.9440057  0.84279257 0.88334742 0.         0.         0.87831824\n",
      " 0.88723937 0.         0.07204   ]\n",
      "Precision:  0.37 0.37 0.18\n",
      "Recall:  0.55 0.55 0.27\n",
      "SAM\n"
     ]
    },
    {
     "name": "stderr",
     "output_type": "stream",
     "text": [
      "/home/aghosh57/.conda/envs/dl4cv/lib/python3.9/site-packages/transformers/pipelines/base.py:1090: UserWarning: You seem to be using the pipelines sequentially on GPU. In order to maximize efficiency please use a dataset\n",
      "  warnings.warn(\n"
     ]
    },
    {
     "name": "stdout",
     "output_type": "stream",
     "text": [
      "num_target_masks:  2\n",
      "num_predicted_masks:  6\n",
      "row_ind:  [0 1]\n",
      "col_ind:  [5 2]\n",
      "Image Id:  3281  Average IoU Score:  0.43\n",
      "IoU Matrix:  [0.03223207 0.81979675]\n",
      "Precision:  0.17 0.17 0.0\n",
      "Recall:  0.5 0.5 0.0\n",
      "SAM\n"
     ]
    },
    {
     "name": "stderr",
     "output_type": "stream",
     "text": [
      "/home/aghosh57/.conda/envs/dl4cv/lib/python3.9/site-packages/transformers/pipelines/base.py:1090: UserWarning: You seem to be using the pipelines sequentially on GPU. In order to maximize efficiency please use a dataset\n",
      "  warnings.warn(\n"
     ]
    },
    {
     "name": "stdout",
     "output_type": "stream",
     "text": [
      "num_target_masks:  31\n",
      "num_predicted_masks:  16\n",
      "row_ind:  [ 0  1  2  3  4  5  6  7  8  9 10 11 12 23 25 27]\n",
      "col_ind:  [10  2  9  5  4  3 12  1  8  0 11  7 15 14  6 13]\n",
      "Image Id:  4585  Average IoU Score:  0.43\n",
      "IoU Matrix:  [0.78186597 0.         0.72475028 0.01230172 0.91835358 0.62810373\n",
      " 0.01662469 0.         0.77947154 0.94583148 0.         0.\n",
      " 0.         0.67767857 0.72083333 0.74868358]\n",
      "Precision:  0.56 0.44 0.12\n",
      "Recall:  0.29 0.23 0.06\n",
      "SAM\n"
     ]
    },
    {
     "name": "stderr",
     "output_type": "stream",
     "text": [
      "/home/aghosh57/.conda/envs/dl4cv/lib/python3.9/site-packages/transformers/pipelines/base.py:1090: UserWarning: You seem to be using the pipelines sequentially on GPU. In order to maximize efficiency please use a dataset\n",
      "  warnings.warn(\n"
     ]
    },
    {
     "name": "stdout",
     "output_type": "stream",
     "text": [
      "num_target_masks:  48\n",
      "num_predicted_masks:  30\n",
      "row_ind:  [ 0  1  2  3  4  5  6  7  8  9 10 11 12 13 14 15 16 17 20 22 23 27 28 30\n",
      " 32 35 38 39 40 41]\n",
      "col_ind:  [ 8 13  1  0  7 18 15 17  6 12 22 26 27 21  2 29 24 16 28 19 20  3  4 10\n",
      " 11  9  5 23 25 14]\n",
      "Image Id:  4725  Average IoU Score:  0.4\n",
      "IoU Matrix:  [0.00000000e+00 0.00000000e+00 9.13398058e-01 4.75672823e-01\n",
      " 0.00000000e+00 0.00000000e+00 0.00000000e+00 3.96866391e-01\n",
      " 4.92894233e-01 0.00000000e+00 0.00000000e+00 0.00000000e+00\n",
      " 0.00000000e+00 4.58532695e-01 8.88289037e-01 0.00000000e+00\n",
      " 8.62676997e-01 3.67034314e-01 3.66894198e-02 8.41840161e-01\n",
      " 7.76426567e-01 1.68324791e-01 6.44181529e-01 7.01516109e-01\n",
      " 8.93465909e-01 4.69593801e-04 6.93039559e-01 8.64255319e-01\n",
      " 9.09790979e-01 6.73835125e-01]\n",
      "Precision:  0.4 0.3 0.07\n",
      "Recall:  0.25 0.19 0.04\n",
      "SAM\n"
     ]
    },
    {
     "name": "stderr",
     "output_type": "stream",
     "text": [
      "/home/aghosh57/.conda/envs/dl4cv/lib/python3.9/site-packages/transformers/pipelines/base.py:1090: UserWarning: You seem to be using the pipelines sequentially on GPU. In order to maximize efficiency please use a dataset\n",
      "  warnings.warn(\n"
     ]
    },
    {
     "name": "stdout",
     "output_type": "stream",
     "text": [
      "num_target_masks:  21\n",
      "num_predicted_masks:  14\n",
      "row_ind:  [ 0  1  2  3  4  5  6  9 14 16 17 18 19 20]\n",
      "col_ind:  [10 11  1  6  5 12 13  0  4  2  7  3  9  8]\n",
      "Image Id:  3014  Average IoU Score:  0.25\n",
      "IoU Matrix:  [0.         0.00271084 0.         0.         0.8794744  0.\n",
      " 0.         0.61906041 0.93467703 0.273906   0.02111159 0.05663265\n",
      " 0.06009162 0.69602654]\n",
      "Precision:  0.29 0.14 0.07\n",
      "Recall:  0.19 0.1 0.05\n",
      "SAM\n"
     ]
    },
    {
     "name": "stderr",
     "output_type": "stream",
     "text": [
      "/home/aghosh57/.conda/envs/dl4cv/lib/python3.9/site-packages/transformers/pipelines/base.py:1090: UserWarning: You seem to be using the pipelines sequentially on GPU. In order to maximize efficiency please use a dataset\n",
      "  warnings.warn(\n"
     ]
    },
    {
     "name": "stdout",
     "output_type": "stream",
     "text": [
      "num_target_masks:  76\n",
      "num_predicted_masks:  67\n",
      "row_ind:  [ 0  1  2  3  4  5  6  7  8  9 10 11 12 13 14 15 16 17 18 19 20 21 22 23\n",
      " 24 25 26 27 28 29 30 31 32 33 34 35 36 37 38 39 40 41 42 43 44 45 46 47\n",
      " 48 49 50 51 52 53 54 55 56 57 59 60 62 63 64 66 70 71 75]\n",
      "col_ind:  [27  6 25 14 52 29 56 21 31  1 37 38 33 26 23 50 45  3 41  5 24 44  9 46\n",
      "  4 49 39 34 13 53 28 51 30 10 58 16 47 32 35 59 36 60 55 17 40 48 20 19\n",
      "  8 61 62 63 12 18  2 64 65 54  0 43 22 66 42 11 57  7 15]\n",
      "Image Id:  5562  Average IoU Score:  0.37\n",
      "IoU Matrix:  [0.00000000e+00 0.00000000e+00 0.00000000e+00 3.11235955e-01\n",
      " 5.06600660e-01 0.00000000e+00 6.75276753e-01 7.80922432e-01\n",
      " 0.00000000e+00 0.00000000e+00 0.00000000e+00 0.00000000e+00\n",
      " 7.18023256e-01 6.03949801e-01 1.28456221e-01 2.83105023e-02\n",
      " 2.11272794e-01 6.34064081e-01 0.00000000e+00 9.27667269e-01\n",
      " 3.64794352e-01 0.00000000e+00 4.45553377e-03 5.99455041e-01\n",
      " 0.00000000e+00 0.00000000e+00 0.00000000e+00 8.26908729e-01\n",
      " 8.14630091e-01 9.48999354e-02 0.00000000e+00 0.00000000e+00\n",
      " 0.00000000e+00 8.03494788e-01 1.46373626e-01 4.28108633e-01\n",
      " 7.93251205e-01 8.42995169e-01 8.57091476e-01 0.00000000e+00\n",
      " 2.49100072e-02 0.00000000e+00 2.64830508e-04 8.41288320e-01\n",
      " 8.53846154e-01 4.78609626e-01 8.32799715e-01 8.21800750e-01\n",
      " 6.33468442e-01 0.00000000e+00 0.00000000e+00 0.00000000e+00\n",
      " 8.68186583e-01 8.19542947e-01 8.48174247e-01 0.00000000e+00\n",
      " 0.00000000e+00 0.00000000e+00 9.09872850e-01 5.93333333e-02\n",
      " 8.03592578e-01 6.31086142e-01 5.46137217e-01 8.72155459e-01\n",
      " 7.61597938e-01 5.61118553e-01 8.46218664e-01]\n",
      "Precision:  0.45 0.31 0.03\n",
      "Recall:  0.39 0.28 0.03\n",
      "SAM\n"
     ]
    },
    {
     "name": "stderr",
     "output_type": "stream",
     "text": [
      "/home/aghosh57/.conda/envs/dl4cv/lib/python3.9/site-packages/transformers/pipelines/base.py:1090: UserWarning: You seem to be using the pipelines sequentially on GPU. In order to maximize efficiency please use a dataset\n",
      "  warnings.warn(\n"
     ]
    },
    {
     "name": "stdout",
     "output_type": "stream",
     "text": [
      "num_target_masks:  13\n",
      "num_predicted_masks:  22\n",
      "row_ind:  [ 0  1  2  3  4  5  6  7  8  9 10 11 12]\n",
      "col_ind:  [ 0  5  4 21 12  1 15  2 10  3 20  6  9]\n",
      "Image Id:  44  Average IoU Score:  0.49\n",
      "IoU Matrix:  [0.         0.         0.         0.94027071 0.8221709  0.895074\n",
      " 0.71317174 0.74693252 0.87030436 0.54645622 0.04134022 0.\n",
      " 0.83288117]\n",
      "Precision:  0.36 0.32 0.05\n",
      "Recall:  0.62 0.54 0.08\n",
      "SAM\n"
     ]
    },
    {
     "name": "stderr",
     "output_type": "stream",
     "text": [
      "/home/aghosh57/.conda/envs/dl4cv/lib/python3.9/site-packages/transformers/pipelines/base.py:1090: UserWarning: You seem to be using the pipelines sequentially on GPU. In order to maximize efficiency please use a dataset\n",
      "  warnings.warn(\n"
     ]
    },
    {
     "name": "stdout",
     "output_type": "stream",
     "text": [
      "num_target_masks:  37\n",
      "num_predicted_masks:  20\n",
      "row_ind:  [ 0  1  2  3  4  5  6  7  8  9 10 11 12 13 17 19 22 23 29 31]\n",
      "col_ind:  [ 6 14  9  4 13 10  2 16  8  3  1  5 18 19 11 15 12  0  7 17]\n",
      "Image Id:  561  Average IoU Score:  0.45\n",
      "IoU Matrix:  [0.         0.6986755  0.8421573  0.92179292 0.80607757 0.\n",
      " 0.         0.         0.88392857 0.9031443  0.74041945 0.89032169\n",
      " 0.         0.         0.04218496 0.74091778 0.34301862 0.92917792\n",
      " 0.16123779 0.03659358]\n",
      "Precision:  0.5 0.45 0.15\n",
      "Recall:  0.27 0.24 0.08\n",
      "SAM\n"
     ]
    },
    {
     "name": "stderr",
     "output_type": "stream",
     "text": [
      "/home/aghosh57/.conda/envs/dl4cv/lib/python3.9/site-packages/transformers/pipelines/base.py:1090: UserWarning: You seem to be using the pipelines sequentially on GPU. In order to maximize efficiency please use a dataset\n",
      "  warnings.warn(\n"
     ]
    },
    {
     "name": "stdout",
     "output_type": "stream",
     "text": [
      "num_target_masks:  39\n",
      "num_predicted_masks:  53\n",
      "row_ind:  [ 0  1  2  3  4  5  6  7  8  9 10 11 12 13 14 15 16 17 18 19 20 21 22 23\n",
      " 24 25 26 27 28 29 30 31 32 33 34 35 36 37 38]\n",
      "col_ind:  [ 5 15 24  6 37 23 21  7 25 30 11 27  1 39  4  0  9 16 10 20 31 34  8 13\n",
      " 17 12 41 14 29 32 18 19 44 22 26  2  3 42 28]\n",
      "Image Id:  6087  Average IoU Score:  0.31\n",
      "IoU Matrix:  [0.00000000e+00 1.43863179e-01 4.86794407e-01 8.96016555e-01\n",
      " 7.63306908e-01 0.00000000e+00 4.95149120e-01 7.60494918e-01\n",
      " 4.05244338e-02 7.76857815e-03 9.31050511e-01 0.00000000e+00\n",
      " 9.26171530e-01 3.48338692e-01 8.96677842e-01 5.39633005e-01\n",
      " 0.00000000e+00 2.16366158e-02 2.03832042e-03 0.00000000e+00\n",
      " 1.24610592e-03 4.67496795e-01 8.13525936e-01 6.50681711e-01\n",
      " 0.00000000e+00 0.00000000e+00 3.52858482e-01 0.00000000e+00\n",
      " 1.21601992e-01 6.51559379e-01 0.00000000e+00 0.00000000e+00\n",
      " 3.11620920e-01 0.00000000e+00 5.83063397e-02 5.73723465e-04\n",
      " 8.56790462e-01 4.90207051e-01 0.00000000e+00]\n",
      "Precision:  0.21 0.15 0.04\n",
      "Recall:  0.28 0.21 0.05\n",
      "SAM\n"
     ]
    },
    {
     "name": "stderr",
     "output_type": "stream",
     "text": [
      "/home/aghosh57/.conda/envs/dl4cv/lib/python3.9/site-packages/transformers/pipelines/base.py:1090: UserWarning: You seem to be using the pipelines sequentially on GPU. In order to maximize efficiency please use a dataset\n",
      "  warnings.warn(\n"
     ]
    },
    {
     "name": "stdout",
     "output_type": "stream",
     "text": [
      "num_target_masks:  48\n",
      "num_predicted_masks:  8\n",
      "row_ind:  [ 0  2 17 18 32 39 41 47]\n",
      "col_ind:  [6 5 4 3 0 1 7 2]\n",
      "Image Id:  5130  Average IoU Score:  0.57\n",
      "IoU Matrix:  [0.         0.67500802 0.66877058 0.47832234 0.90695459 0.94530154\n",
      " 0.74006734 0.14344143]\n",
      "Precision:  0.62 0.38 0.25\n",
      "Recall:  0.1 0.06 0.04\n",
      "SAM\n"
     ]
    },
    {
     "name": "stderr",
     "output_type": "stream",
     "text": [
      "/home/aghosh57/.conda/envs/dl4cv/lib/python3.9/site-packages/transformers/pipelines/base.py:1090: UserWarning: You seem to be using the pipelines sequentially on GPU. In order to maximize efficiency please use a dataset\n",
      "  warnings.warn(\n"
     ]
    },
    {
     "name": "stdout",
     "output_type": "stream",
     "text": [
      "num_target_masks:  26\n",
      "num_predicted_masks:  37\n",
      "row_ind:  [ 0  1  2  3  4  5  6  7  8  9 10 11 12 13 14 15 16 17 18 19 20 21 22 23\n",
      " 24 25]\n",
      "col_ind:  [33 29 27  5  0  2  8 36 20  6 18  1  9 16 11 12 34 17 15 14  4 32 10 13\n",
      "  3  7]\n",
      "Image Id:  960  Average IoU Score:  0.37\n",
      "IoU Matrix:  [7.49550783e-01 2.34833659e-02 4.71838470e-02 5.74925163e-01\n",
      " 0.00000000e+00 0.00000000e+00 0.00000000e+00 8.33007175e-01\n",
      " 7.80908568e-01 8.75869747e-01 0.00000000e+00 0.00000000e+00\n",
      " 0.00000000e+00 9.12547529e-02 1.71086399e-03 6.40758294e-01\n",
      " 3.76569038e-01 0.00000000e+00 8.76862508e-01 8.46685782e-01\n",
      " 9.29805948e-01 7.90513834e-04 0.00000000e+00 0.00000000e+00\n",
      " 9.49317739e-01 9.46529488e-01]\n",
      "Precision:  0.3 0.24 0.08\n",
      "Recall:  0.42 0.35 0.12\n",
      "SAM\n"
     ]
    },
    {
     "name": "stderr",
     "output_type": "stream",
     "text": [
      "/home/aghosh57/.conda/envs/dl4cv/lib/python3.9/site-packages/transformers/pipelines/base.py:1090: UserWarning: You seem to be using the pipelines sequentially on GPU. In order to maximize efficiency please use a dataset\n",
      "  warnings.warn(\n"
     ]
    },
    {
     "name": "stdout",
     "output_type": "stream",
     "text": [
      "num_target_masks:  18\n",
      "num_predicted_masks:  23\n",
      "row_ind:  [ 0  1  2  3  4  5  6  7  8  9 10 11 12 13 14 15 16 17]\n",
      "col_ind:  [13  6  1  9  4 18  7  8  3 22  5 16 17 21 11  2  0 10]\n",
      "Image Id:  1702  Average IoU Score:  0.43\n",
      "IoU Matrix:  [0.82309746 0.89760428 0.90930966 0.0025491  0.         0.91395236\n",
      " 0.7654321  0.90014605 0.         0.13209324 0.         0.07207753\n",
      " 0.0065644  0.01062574 0.52145644 0.62536443 0.18597858 0.95672745]\n",
      "Precision:  0.39 0.3 0.17\n",
      "Recall:  0.5 0.39 0.22\n",
      "SAM\n"
     ]
    },
    {
     "name": "stderr",
     "output_type": "stream",
     "text": [
      "/home/aghosh57/.conda/envs/dl4cv/lib/python3.9/site-packages/transformers/pipelines/base.py:1090: UserWarning: You seem to be using the pipelines sequentially on GPU. In order to maximize efficiency please use a dataset\n",
      "  warnings.warn(\n"
     ]
    },
    {
     "name": "stdout",
     "output_type": "stream",
     "text": [
      "num_target_masks:  14\n",
      "num_predicted_masks:  13\n",
      "row_ind:  [ 0  1  2  3  4  5  6  7  8  9 10 11 12]\n",
      "col_ind:  [ 4  3  5  0  6  9  1  7  2  8 10 11 12]\n",
      "Image Id:  381  Average IoU Score:  0.31\n",
      "IoU Matrix:  [0.94378844 0.5483402  0.02040816 0.94067435 0.69400071 0.88908927\n",
      " 0.         0.         0.         0.         0.         0.\n",
      " 0.        ]\n",
      "Precision:  0.38 0.23 0.15\n",
      "Recall:  0.36 0.21 0.14\n",
      "SAM\n"
     ]
    },
    {
     "name": "stderr",
     "output_type": "stream",
     "text": [
      "/home/aghosh57/.conda/envs/dl4cv/lib/python3.9/site-packages/transformers/pipelines/base.py:1090: UserWarning: You seem to be using the pipelines sequentially on GPU. In order to maximize efficiency please use a dataset\n",
      "  warnings.warn(\n"
     ]
    },
    {
     "name": "stdout",
     "output_type": "stream",
     "text": [
      "num_target_masks:  12\n",
      "num_predicted_masks:  13\n",
      "row_ind:  [ 0  1  2  3  4  5  6  7  8  9 10 11]\n",
      "col_ind:  [ 0 11  4  2  9  3  5  8  6 10  7  1]\n",
      "Image Id:  45  Average IoU Score:  0.33\n",
      "IoU Matrix:  [0.         0.         0.87113909 0.96837861 0.7281106  0.\n",
      " 0.         0.00158308 0.         0.         0.65635359 0.77136515]\n",
      "Precision:  0.38 0.31 0.08\n",
      "Recall:  0.42 0.33 0.08\n",
      "SAM\n"
     ]
    },
    {
     "name": "stderr",
     "output_type": "stream",
     "text": [
      "/home/aghosh57/.conda/envs/dl4cv/lib/python3.9/site-packages/transformers/pipelines/base.py:1090: UserWarning: You seem to be using the pipelines sequentially on GPU. In order to maximize efficiency please use a dataset\n",
      "  warnings.warn(\n"
     ]
    },
    {
     "name": "stdout",
     "output_type": "stream",
     "text": [
      "num_target_masks:  13\n",
      "num_predicted_masks:  21\n",
      "row_ind:  [ 0  1  2  3  4  5  6  7  8  9 10 11 12]\n",
      "col_ind:  [ 8  3 11  9 10  2  5 12  6  4  7  0  1]\n",
      "Image Id:  2890  Average IoU Score:  0.3\n",
      "IoU Matrix:  [0.83438045 0.48783291 0.         0.         0.         0.\n",
      " 0.64567389 0.00157912 0.         0.83454357 0.07427816 0.95559622\n",
      " 0.0151562 ]\n",
      "Precision:  0.19 0.14 0.05\n",
      "Recall:  0.31 0.23 0.08\n",
      "SAM\n"
     ]
    },
    {
     "name": "stderr",
     "output_type": "stream",
     "text": [
      "/home/aghosh57/.conda/envs/dl4cv/lib/python3.9/site-packages/transformers/pipelines/base.py:1090: UserWarning: You seem to be using the pipelines sequentially on GPU. In order to maximize efficiency please use a dataset\n",
      "  warnings.warn(\n"
     ]
    },
    {
     "name": "stdout",
     "output_type": "stream",
     "text": [
      "num_target_masks:  80\n",
      "num_predicted_masks:  91\n",
      "row_ind:  [ 0  1  2  3  4  5  6  7  8  9 10 11 12 13 14 15 16 17 18 19 20 21 22 23\n",
      " 24 25 26 27 28 29 30 31 32 33 34 35 36 37 38 39 40 41 42 43 44 45 46 47\n",
      " 48 49 50 51 52 53 54 55 56 57 58 59 60 61 62 63 64 65 66 67 68 69 70 71\n",
      " 72 73 74 75 76 77 78 79]\n",
      "col_ind:  [ 9 33 46 49 34 61 65 69 44 37 73 17 59 56 55  3 43  7  2 10 22 53 76 74\n",
      " 66 67  6 40 28 11 81 14 64 13 52 58 16 25 19 18 71 36 78 21 60 12 30 31\n",
      " 62  4 41 23 39 48 38 20 57 87  1 84 35 47  8 63 27 42 50 32 29 26  0 90\n",
      " 24 54  5 70 68 15 45 51]\n",
      "Image Id:  5985  Average IoU Score:  0.35\n",
      "IoU Matrix:  [0.92019442 0.03140227 0.63673882 0.19663259 0.76168041 0.00583501\n",
      " 0.27536609 0.01726817 0.         0.         0.32097511 0.81546527\n",
      " 0.         0.45437217 0.94477857 0.         0.14141414 0.48457523\n",
      " 0.         0.         0.82557078 0.02860858 0.21889932 0.01776791\n",
      " 0.         0.53465879 0.00135272 0.         0.84557154 0.\n",
      " 0.12113402 0.         0.         0.         0.88785047 0.\n",
      " 0.         0.28313253 0.60018948 0.         0.         0.\n",
      " 0.00197628 0.57830648 0.         0.55809642 0.         0.87841319\n",
      " 0.         0.06507592 0.01465902 0.83293698 0.         0.87851852\n",
      " 0.8062954  0.78220036 0.57261586 0.10824742 0.91304875 0.8240038\n",
      " 0.71408108 0.         0.00981346 0.         0.21890403 0.68993424\n",
      " 0.         0.85736196 0.82694064 0.87752777 0.9025235  0.33126294\n",
      " 0.86277001 0.85066505 0.88181213 0.12289157 0.         0.63521165\n",
      " 0.22509301 0.78232759]\n",
      "Precision:  0.34 0.25 0.04\n",
      "Recall:  0.39 0.29 0.05\n",
      "SAM\n"
     ]
    },
    {
     "name": "stderr",
     "output_type": "stream",
     "text": [
      "/home/aghosh57/.conda/envs/dl4cv/lib/python3.9/site-packages/transformers/pipelines/base.py:1090: UserWarning: You seem to be using the pipelines sequentially on GPU. In order to maximize efficiency please use a dataset\n",
      "  warnings.warn(\n"
     ]
    },
    {
     "name": "stdout",
     "output_type": "stream",
     "text": [
      "num_target_masks:  3\n",
      "num_predicted_masks:  19\n",
      "row_ind:  [0 1 2]\n",
      "col_ind:  [ 5  1 11]\n",
      "Image Id:  881  Average IoU Score:  0.16\n",
      "IoU Matrix:  [0.08509082 0.07821205 0.32374313]\n",
      "Precision:  0.0 0.0 0.0\n",
      "Recall:  0.0 0.0 0.0\n",
      "SAM\n"
     ]
    },
    {
     "name": "stderr",
     "output_type": "stream",
     "text": [
      "/home/aghosh57/.conda/envs/dl4cv/lib/python3.9/site-packages/transformers/pipelines/base.py:1090: UserWarning: You seem to be using the pipelines sequentially on GPU. In order to maximize efficiency please use a dataset\n",
      "  warnings.warn(\n"
     ]
    },
    {
     "name": "stdout",
     "output_type": "stream",
     "text": [
      "num_target_masks:  31\n",
      "num_predicted_masks:  41\n",
      "row_ind:  [ 0  1  2  3  4  5  6  7  8  9 10 11 12 13 14 15 16 17 18 19 20 21 22 23\n",
      " 24 25 26 27 28 29 30]\n",
      "col_ind:  [23 34 11 20  6 14  0  1 12  7 31 10  5 16 24 40  9 22  4 28 26 19 17  8\n",
      " 38  2 13 15 18 21  3]\n",
      "Image Id:  4280  Average IoU Score:  0.44\n",
      "IoU Matrix:  [7.60629004e-01 2.35294118e-02 8.35983425e-01 7.33243968e-01\n",
      " 3.21480058e-01 9.17740337e-01 9.76505140e-01 0.00000000e+00\n",
      " 8.97794118e-01 2.68239309e-01 2.22082548e-02 9.28462377e-01\n",
      " 0.00000000e+00 8.93053645e-01 8.00961153e-04 1.72920629e-03\n",
      " 8.97529735e-01 0.00000000e+00 0.00000000e+00 8.40466926e-01\n",
      " 2.70578060e-01 2.13621513e-03 7.57777778e-01 6.78316124e-01\n",
      " 2.91139241e-01 8.08033385e-01 0.00000000e+00 0.00000000e+00\n",
      " 8.62458349e-01 0.00000000e+00 7.97732260e-01]\n",
      "Precision:  0.37 0.34 0.07\n",
      "Recall:  0.48 0.45 0.1\n",
      "SAM\n"
     ]
    },
    {
     "name": "stderr",
     "output_type": "stream",
     "text": [
      "/home/aghosh57/.conda/envs/dl4cv/lib/python3.9/site-packages/transformers/pipelines/base.py:1090: UserWarning: You seem to be using the pipelines sequentially on GPU. In order to maximize efficiency please use a dataset\n",
      "  warnings.warn(\n"
     ]
    },
    {
     "name": "stdout",
     "output_type": "stream",
     "text": [
      "num_target_masks:  23\n",
      "num_predicted_masks:  35\n",
      "row_ind:  [ 0  1  2  3  4  5  6  7  8  9 10 11 12 13 14 15 16 17 18 19 20 21 22]\n",
      "col_ind:  [ 1  0 23 11  9 30  2 33 12 15  4 29 13 34  8  3 10  6 14 25  7 18  5]\n",
      "Image Id:  1545  Average IoU Score:  0.34\n",
      "IoU Matrix:  [0.24116223 0.89657652 0.02237522 0.         0.85736814 0.01806589\n",
      " 0.         0.00273002 0.         0.85174129 0.         0.15148871\n",
      " 0.         0.30851064 0.         0.83023559 0.         0.57648546\n",
      " 0.68935059 0.2259751  0.54025131 0.80368098 0.89578297]\n",
      "Precision:  0.26 0.17 0.0\n",
      "Recall:  0.39 0.26 0.0\n",
      "SAM\n"
     ]
    },
    {
     "name": "stderr",
     "output_type": "stream",
     "text": [
      "/home/aghosh57/.conda/envs/dl4cv/lib/python3.9/site-packages/transformers/pipelines/base.py:1090: UserWarning: You seem to be using the pipelines sequentially on GPU. In order to maximize efficiency please use a dataset\n",
      "  warnings.warn(\n"
     ]
    },
    {
     "name": "stdout",
     "output_type": "stream",
     "text": [
      "num_target_masks:  69\n",
      "num_predicted_masks:  24\n",
      "row_ind:  [ 0  1  2  3  4 10 12 14 16 19 24 25 34 42 45 51 52 54 57 58 61 63 65 67]\n",
      "col_ind:  [ 1 22 21 15 23 12  6 19  5 13 11  3 17  9  7 16 20  8  0  4 10  2 18 14]\n",
      "Image Id:  4767  Average IoU Score:  0.43\n",
      "IoU Matrix:  [0.         0.07260274 0.         0.         0.         0.80668962\n",
      " 0.86817473 0.02908416 0.81386025 0.02228613 0.56214204 0.86389776\n",
      " 0.56       0.62044653 0.67402377 0.70228665 0.13320492 0.54890966\n",
      " 0.1979315  0.88883785 0.23440384 0.49133769 0.50044086 0.83793295]\n",
      "Precision:  0.54 0.29 0.0\n",
      "Recall:  0.19 0.1 0.0\n",
      "SAM\n"
     ]
    },
    {
     "name": "stderr",
     "output_type": "stream",
     "text": [
      "/home/aghosh57/.conda/envs/dl4cv/lib/python3.9/site-packages/transformers/pipelines/base.py:1090: UserWarning: You seem to be using the pipelines sequentially on GPU. In order to maximize efficiency please use a dataset\n",
      "  warnings.warn(\n"
     ]
    },
    {
     "name": "stdout",
     "output_type": "stream",
     "text": [
      "num_target_masks:  15\n",
      "num_predicted_masks:  21\n",
      "row_ind:  [ 0  1  2  3  4  5  6  7  8  9 10 11 12 13 14]\n",
      "col_ind:  [ 6 14  7  2 16  5 11  0  3  4 19  8  1 15  9]\n",
      "Image Id:  1729  Average IoU Score:  0.27\n",
      "IoU Matrix:  [0.89614384 0.74659864 0.00715421 0.89409895 0.01055934 0.\n",
      " 0.34833731 0.         0.         0.         0.00412107 0.\n",
      " 0.90863215 0.21002387 0.        ]\n",
      "Precision:  0.19 0.19 0.05\n",
      "Recall:  0.27 0.27 0.07\n",
      "SAM\n"
     ]
    },
    {
     "name": "stderr",
     "output_type": "stream",
     "text": [
      "/home/aghosh57/.conda/envs/dl4cv/lib/python3.9/site-packages/transformers/pipelines/base.py:1090: UserWarning: You seem to be using the pipelines sequentially on GPU. In order to maximize efficiency please use a dataset\n",
      "  warnings.warn(\n"
     ]
    },
    {
     "name": "stdout",
     "output_type": "stream",
     "text": [
      "num_target_masks:  42\n",
      "num_predicted_masks:  69\n",
      "row_ind:  [ 0  1  2  3  4  5  6  7  8  9 10 11 12 13 14 15 16 17 18 19 20 21 22 23\n",
      " 24 25 26 27 28 29 30 31 32 33 34 35 36 37 38 39 40 41]\n",
      "col_ind:  [39 28  5 14 12 58 24 19  8 13 10 16 22 18  7  4 26 15 43  9 35 11 25  0\n",
      " 31 23 34 27  1 66  6 41 17 47 21 59 50 49 33 20  3  2]\n",
      "Image Id:  317  Average IoU Score:  0.51\n",
      "IoU Matrix:  [0.40413793 0.         0.81885522 0.85465116 0.88641425 0.76885406\n",
      " 0.60861691 0.32950283 0.87417678 0.         0.49481912 0.85031759\n",
      " 0.04977105 0.         0.79711158 0.         0.89615872 0.\n",
      " 0.65790977 0.         0.70026216 0.         0.77514793 0.83595227\n",
      " 0.56426464 0.00674068 0.02609335 0.80592287 0.93791108 0.01194673\n",
      " 0.94744046 0.93275335 0.         0.78280543 0.79214609 0.15027829\n",
      " 0.15849057 0.89639212 0.44839858 0.35936547 0.93048516 0.97956403]\n",
      "Precision:  0.33 0.29 0.07\n",
      "Recall:  0.55 0.48 0.12\n",
      "SAM\n"
     ]
    },
    {
     "name": "stderr",
     "output_type": "stream",
     "text": [
      "/home/aghosh57/.conda/envs/dl4cv/lib/python3.9/site-packages/transformers/pipelines/base.py:1090: UserWarning: You seem to be using the pipelines sequentially on GPU. In order to maximize efficiency please use a dataset\n",
      "  warnings.warn(\n"
     ]
    },
    {
     "name": "stdout",
     "output_type": "stream",
     "text": [
      "num_target_masks:  28\n",
      "num_predicted_masks:  0\n",
      "row_ind:  []\n",
      "col_ind:  []\n",
      "Error in image:  5209\n",
      "SAM\n",
      "num_target_masks:  1\n",
      "num_predicted_masks:  3\n",
      "row_ind:  [0]\n",
      "col_ind:  [0]\n",
      "Image Id:  2855  Average IoU Score:  0.79\n",
      "IoU Matrix:  [0.79033916]\n",
      "Precision:  0.33 0.33 0.0\n",
      "Recall:  1.0 1.0 0.0\n",
      "SAM\n"
     ]
    },
    {
     "name": "stderr",
     "output_type": "stream",
     "text": [
      "/home/aghosh57/.conda/envs/dl4cv/lib/python3.9/site-packages/transformers/pipelines/base.py:1090: UserWarning: You seem to be using the pipelines sequentially on GPU. In order to maximize efficiency please use a dataset\n",
      "  warnings.warn(\n"
     ]
    }
   ],
   "source": [
    "results = pd.DataFrame(columns=['parcel_id', 'parcel_path', 'gt_mask_ct', 'pred_mask_ct', 'mean_iou', 'p_50', 'r_50', 'p_70', 'r_70', 'p_90', 'r_90'])\n",
    "\n",
    "for i, (id, sam_image, rpn_image, target, ensemble, path)  in enumerate(dataset_test): \n",
    "    try:\n",
    "        if eval_config['MODEL'] == 'SAT-SAM':\n",
    "            print('SAT-SAM')\n",
    "            rpn_image = rpn_image.squeeze(0).to(device)  \n",
    "            predictions = rpn_model.predict(rpn_image)\n",
    "            predictions = rpn_model.postprocess(predictions, nms_threshold=eval_config['NMS_THRESHOLD'], score_threshold=eval_config['PRED_CONFIDENCE_THRESHOLD'])\n",
    "            \n",
    "            if eval_config['FILTRATION'] == 'TRUE':\n",
    "                filtered_predictions = filter_boxes(predictions, ensemble, eval_config['ENSEMBLE_BOX_BETA'], eval_config['ENSEMBLE_BOX_OVERLAP_THRESHOLD'])\n",
    "                low_res_masks, iou_predictions = sam_model.predict(sam_image, filtered_predictions)\n",
    "            else:\n",
    "                low_res_masks, iou_predictions = sam_model.predict(sam_image, predictions['boxes'])\n",
    "            \n",
    "            high_res_masks = sam_model.postprocess(low_res_masks, tuple(sam_image.size))\n",
    "            pred_masks = high_res_masks.squeeze().cpu().numpy()\n",
    "        \n",
    "        elif eval_config['MODEL'] == 'SAM':\n",
    "            print('SAM')\n",
    "            outputs = vanilla_sam_model(sam_image, points_per_batch=32)\n",
    "            if eval_config['FILTRATION'] == 'TRUE':\n",
    "                pred_masks = filter_masks(outputs, ensemble, eval_config['ENSEMBLE_BOX_OVERLAP_THRESHOLD'])\n",
    "            else:\n",
    "                pred_masks = outputs[\"masks\"]\n",
    "        \n",
    "        elif eval_config['MODEL'] == 'MASKRCNN':\n",
    "            print('MASKRCNN')\n",
    "            rpn_image = rpn_image.squeeze(0).to(device)\n",
    "            predictions = maskrcnn_model.predict(rpn_image)\n",
    "            predictions = maskrcnn_model.postprocess(predictions, nms_threshold=eval_config['NMS_THRESHOLD'], score_threshold=eval_config['PRED_CONFIDENCE_THRESHOLD'])\n",
    "            if eval_config['FILTRATION'] == 'TRUE':\n",
    "                pred_masks = filter_masks(predictions, ensemble, eval_config['ENSEMBLE_BOX_OVERLAP_THRESHOLD'])\n",
    "            else:\n",
    "                pred_masks = predictions['masks']\n",
    "\n",
    "        iou_score, iou_matrix = calculate_iou(target_masks=np.array(target['masks']), predicted_masks=np.array(pred_masks))\n",
    "        \n",
    "        p_50, r_50 = calculate_precision_recall(iou_matrix, len(pred_masks), len(target['masks']), threshold=0.5)\n",
    "        p_70, r_70 = calculate_precision_recall(iou_matrix, len(pred_masks), len(target['masks']), threshold=0.7)\n",
    "        p_90, r_90 = calculate_precision_recall(iou_matrix, len(pred_masks), len(target['masks']), threshold=0.9)\n",
    "        \n",
    "        # Round off the values to 2 decimal places\n",
    "        iou_score = round(iou_score, 2)\n",
    "        p_50, r_50 = round(p_50, 2), round(r_50, 2)\n",
    "        p_70, r_70 = round(p_70, 2), round(r_70, 2)\n",
    "        p_90, r_90 = round(p_90, 2), round(r_90, 2)\n",
    "\n",
    "        print(\"Image Id: \", id, \" Average IoU Score: \", iou_score)\n",
    "        print(\"IoU Matrix: \", iou_matrix)\n",
    "        print(\"Precision: \", p_50, p_70, p_90)\n",
    "        print(\"Recall: \", r_50, r_70, r_90)\n",
    "\n",
    "        results.loc[i] = [id, path, len(target['masks']), len(pred_masks), iou_score, p_50, r_50, p_70, r_70, p_90, r_90]\n",
    "    except:\n",
    "        print(\"Error in image: \", id)\n",
    "        continue"
   ]
  },
  {
   "cell_type": "code",
   "execution_count": null,
   "metadata": {},
   "outputs": [],
   "source": [
    "mean_IoU = results['mean_iou'].mean()\n",
    "eval_config['MEAN_IOU'] = mean_IoU"
   ]
  },
  {
   "cell_type": "code",
   "execution_count": null,
   "metadata": {},
   "outputs": [],
   "source": [
    "results.to_csv(root_path + 'results', index=False)\n",
    "\n",
    "# save model and configuration\n",
    "with open(root_path + 'eval_config.json', 'w') as f:\n",
    "    json.dump(eval_config, f, indent=1)\n",
    "    f.close()\n",
    "print(\"Evaluation Configuration saved to \" + root_path + 'train_config.json') "
   ]
  }
 ],
 "metadata": {
  "kernelspec": {
   "display_name": "dl4cv",
   "language": "python",
   "name": "python3"
  },
  "language_info": {
   "codemirror_mode": {
    "name": "ipython",
    "version": 3
   },
   "file_extension": ".py",
   "mimetype": "text/x-python",
   "name": "python",
   "nbconvert_exporter": "python",
   "pygments_lexer": "ipython3",
   "version": "3.9.17"
  },
  "orig_nbformat": 4
 },
 "nbformat": 4,
 "nbformat_minor": 2
}
