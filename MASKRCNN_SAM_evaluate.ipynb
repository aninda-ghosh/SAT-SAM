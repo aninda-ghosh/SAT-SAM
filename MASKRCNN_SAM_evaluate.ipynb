{
 "cells": [
  {
   "cell_type": "code",
   "execution_count": 15,
   "metadata": {},
   "outputs": [],
   "source": [
    "import torch\n",
    "from sam.build_sam import sam_model_registry\n",
    "from sam.automatic_mask_generator import SamAutomaticMaskGenerator\n",
    "from sam.predictor import SamPredictor\n",
    "from sam.build_sam import SAM_Model\n",
    "from data_builder.build_dataset import PlanetscopeDataset\n",
    "import numpy as np\n",
    "import matplotlib.pyplot as plt\n",
    "import matplotlib.patches as patches\n",
    "from scipy.optimize import linear_sum_assignment\n",
    "from torch.utils.data import DataLoader"
   ]
  },
  {
   "cell_type": "code",
   "execution_count": 4,
   "metadata": {},
   "outputs": [],
   "source": [
    "ROOT_PATH = 'C://Users/anind/Dropbox (ASU)/ASU/Kerner-Lab/SAT-SAM(Dataset)/ps_rwanda/all_dataset/'\n",
    "device = torch.device('cuda') if torch.cuda.is_available() else torch.device('cpu')"
   ]
  },
  {
   "cell_type": "code",
   "execution_count": 16,
   "metadata": {},
   "outputs": [],
   "source": [
    "sam = sam_model_registry['vit_l'](checkpoint='sam/checkpoint/sam_vit_l_0b3195.pth')\n",
    "sam.to(device=device)\n",
    "\n",
    "mask_generator = SamAutomaticMaskGenerator(sam)"
   ]
  },
  {
   "cell_type": "code",
   "execution_count": 17,
   "metadata": {},
   "outputs": [],
   "source": [
    "dataset = PlanetscopeDataset(ROOT_PATH, train=False)"
   ]
  },
  {
   "cell_type": "code",
   "execution_count": null,
   "metadata": {},
   "outputs": [],
   "source": [
    "def build_point_grid(n_per_side: int) -> np.ndarray:\n",
    "    \"\"\"Generates a 2D grid of points evenly spaced in [0,1]x[0,1].\"\"\"\n",
    "    offset = 1 / (2 * n_per_side)\n",
    "    points_one_side = np.linspace(offset, 1 - offset, n_per_side)\n",
    "    points_x = np.tile(points_one_side[None, :], (n_per_side, 1))\n",
    "    points_y = np.tile(points_one_side[:, None], (1, n_per_side))\n",
    "    points = np.stack([points_x, points_y], axis=-1).reshape(-1, 2)\n",
    "    return points\n",
    "\n",
    "def get_bbox_point_and_inputlabel_prompts(pixel_masks, image_width, image_height, num_boxes, min_distance, box_percentage):\n",
    "    bbox_prompts = []\n",
    "    point_prompts = []\n",
    "    input_labels_prompts = []\n",
    "    \n",
    "    if len(pixel_masks) == 0:\n",
    "        # TODO: We have to create few bounding boxes here with just blank background\n",
    "        bbox_prompts = generate_random_bounding_boxes(image_width, image_height, num_boxes, min_distance, box_percentage)\n",
    "    else:\n",
    "        for mask in pixel_masks:\n",
    "            # get bounding box from mask\n",
    "            y_indices, x_indices = np.where(mask > 0)\n",
    "\n",
    "            # # This is done if we have masks but the labels are all 0, we have to generate random bounding boxes then\n",
    "            if (len (x_indices) == 0) or (len(y_indices) == 0):\n",
    "                bbox_prompts = generate_random_bounding_boxes(image_width, image_height, num_boxes, min_distance, box_percentage)\n",
    "            else:\n",
    "                x_min, x_max = np.min(x_indices), np.max(x_indices)\n",
    "                y_min, y_max = np.min(y_indices), np.max(y_indices)\n",
    "                # add perturbation to bounding box coordinates\n",
    "                H, W = mask.shape\n",
    "                x_min = max(0, x_min - np.random.randint(0, 30))\n",
    "                x_max = min(W, x_max + np.random.randint(0, 30))\n",
    "                y_min = max(0, y_min - np.random.randint(0, 30))\n",
    "                y_max = min(H, y_max + np.random.randint(0, 30))\n",
    "                bbox = [x_min, y_min, x_max, y_max]\n",
    "                bbox_prompts.append(bbox)\n",
    "\n",
    "                # Get grid points within the bounding box\n",
    "                point_grid_per_crop= build_point_grid(10)\n",
    "                #This forms a 2D grid points and we need to normalize it to the bbox size\n",
    "                point_grid_per_crop[:, 0] = point_grid_per_crop[:, 0] * (x_max - x_min) + x_min\n",
    "                point_grid_per_crop[:, 1] = point_grid_per_crop[:, 1] * (y_max - y_min) + y_min\n",
    "                #Convert the grid points to a integer\n",
    "                point_grid_per_crop = np.around(point_grid_per_crop).astype(np.float64)\n",
    "                points_per_crop = np.array([np.array([point_grid_per_crop])])\n",
    "                points_per_crop = np.transpose(points_per_crop, axes=(0, 2, 1, 3))\n",
    "                point_prompts.append(points_per_crop)\n",
    "\n",
    "                input_labels = np.ones_like(points_per_crop[:, :, :, 0], dtype=np.int64)\n",
    "                input_labels_prompts.append(input_labels)\n",
    "\n",
    "    return bbox_prompts, point_prompts, input_labels_prompts"
   ]
  },
  {
   "cell_type": "code",
   "execution_count": 30,
   "metadata": {},
   "outputs": [],
   "source": [
    "def iou(mask1, mask2):\n",
    "    intersection = np.logical_and(mask1, mask2)\n",
    "    union = np.logical_or(mask1, mask2)\n",
    "    iou_score = np.sum(intersection) / np.sum(union)\n",
    "    return iou_score\n",
    "\n",
    "def calculate_iou_matrix(target_masks, predicted_masks):\n",
    "    num_target_masks = len(target_masks)\n",
    "    num_predicted_masks = len(predicted_masks)\n",
    "\n",
    "    print(\"num_target_masks: \", num_target_masks)\n",
    "    print(\"num_predicted_masks: \", num_predicted_masks)\n",
    "\n",
    "    iou_matrix = np.zeros((num_target_masks, num_predicted_masks))\n",
    "    for i in range(num_target_masks):\n",
    "        for j in range(num_predicted_masks):\n",
    "            iou_matrix[i, j] = iou(target_masks[i], predicted_masks[j])\n",
    "\n",
    "    return iou_matrix\n",
    "\n",
    "def calculate_iou(target_masks, predicted_masks):\n",
    "    iou_matrix = calculate_iou_matrix(target_masks, predicted_masks)\n",
    "    # Use the Hungarian algorithm to find the best assignment\n",
    "    row_ind, col_ind = linear_sum_assignment(-iou_matrix)\n",
    "\n",
    "    print(\"row_ind: \", row_ind)\n",
    "    print(\"col_ind: \", col_ind)\n",
    "\n",
    "    total_iou = 0.0\n",
    "    for i, j in zip(row_ind, col_ind):\n",
    "        total_iou += iou_matrix[i, j]\n",
    "\n",
    "    average_iou = total_iou / len(row_ind)\n",
    "    return average_iou\n",
    "\n",
    "def calculate_precision_recall(matched_ious, num_pred_instances, num_gt_instances, threshold=0.5):\n",
    "    num_true_positives = len(matched_ious[matched_ious >= threshold])\n",
    "    num_false_positives = num_pred_instances - num_true_positives\n",
    "    num_false_negatives = num_gt_instances - num_true_positives\n",
    "    precision = num_true_positives / (num_true_positives + num_false_positives)\n",
    "    recall = num_true_positives / (num_true_positives + num_false_negatives)\n",
    "    \n",
    "    return precision, recall"
   ]
  },
  {
   "cell_type": "code",
   "execution_count": 18,
   "metadata": {},
   "outputs": [],
   "source": [
    "sam_image, rpn_image, target, ensemble = dataset[0]"
   ]
  },
  {
   "cell_type": "code",
   "execution_count": 26,
   "metadata": {},
   "outputs": [
    {
     "data": {
      "text/plain": [
       "(448, 448, 3)"
      ]
     },
     "execution_count": 26,
     "metadata": {},
     "output_type": "execute_result"
    }
   ],
   "source": [
    "sam_image = np.array(sam_image)\n",
    "sam_image.shape"
   ]
  },
  {
   "cell_type": "code",
   "execution_count": 32,
   "metadata": {},
   "outputs": [
    {
     "ename": "TypeError",
     "evalue": "list indices must be integers or slices, not str",
     "output_type": "error",
     "traceback": [
      "\u001b[1;31m---------------------------------------------------------------------------\u001b[0m",
      "\u001b[1;31mTypeError\u001b[0m                                 Traceback (most recent call last)",
      "Cell \u001b[1;32mIn[32], line 2\u001b[0m\n\u001b[0;32m      1\u001b[0m masks \u001b[39m=\u001b[39m mask_generator\u001b[39m.\u001b[39mgenerate(sam_image)\n\u001b[1;32m----> 2\u001b[0m masks[\u001b[39m'\u001b[39;49m\u001b[39msegmentation\u001b[39;49m\u001b[39m'\u001b[39;49m]\n",
      "\u001b[1;31mTypeError\u001b[0m: list indices must be integers or slices, not str"
     ]
    }
   ],
   "source": [
    "masks = mask_generator.generate(sam_image)"
   ]
  },
  {
   "cell_type": "code",
   "execution_count": 34,
   "metadata": {},
   "outputs": [
    {
     "data": {
      "text/plain": [
       "array([[False, False, False, ..., False, False, False],\n",
       "       [False, False, False, ..., False, False, False],\n",
       "       [False, False, False, ..., False, False, False],\n",
       "       ...,\n",
       "       [False, False, False, ...,  True,  True,  True],\n",
       "       [False, False, False, ...,  True,  True,  True],\n",
       "       [False, False, False, ...,  True,  True,  True]])"
      ]
     },
     "execution_count": 34,
     "metadata": {},
     "output_type": "execute_result"
    }
   ],
   "source": [
    "masks[0]['segmentation']"
   ]
  },
  {
   "cell_type": "code",
   "execution_count": 35,
   "metadata": {},
   "outputs": [
    {
     "name": "stdout",
     "output_type": "stream",
     "text": [
      "num_target_masks:  1\n",
      "num_predicted_masks:  448\n",
      "row_ind:  [0]\n",
      "col_ind:  [417]\n",
      "Average IoU Score:  0.02261836500655308\n"
     ]
    }
   ],
   "source": [
    "iou_score = calculate_iou(target_masks=np.array(target['masks']), predicted_masks=np.array(masks[0]['segmentation'], dtype=np.uint8))\n",
    "print(\"Average IoU Score: \", iou_score)"
   ]
  },
  {
   "cell_type": "code",
   "execution_count": null,
   "metadata": {},
   "outputs": [],
   "source": [
    "iou_scores = []\n",
    "\n",
    "for i, (sam_image, rpn_image, target, ensemble)  in enumerate(dataset): \n",
    "    try:\n",
    "        prediction = sam_automatic_mask_generator.generate(sam_image)\n",
    "\n",
    "        iou_score = calculate_iou(target_masks=np.array(target['masks']), predicted_masks=np.array(high_res_masks))\n",
    "        print(\"Image Id: \", i, \" Average IoU Score: \", iou_score)\n",
    "\n",
    "        iou_scores.append(iou_score)\n",
    "    except:\n",
    "        print(\"Error in image: \", i)\n",
    "        continue"
   ]
  },
  {
   "cell_type": "code",
   "execution_count": null,
   "metadata": {},
   "outputs": [],
   "source": [
    "np.mean(iou_scores)"
   ]
  },
  {
   "cell_type": "code",
   "execution_count": null,
   "metadata": {},
   "outputs": [],
   "source": []
  }
 ],
 "metadata": {
  "kernelspec": {
   "display_name": "dl4cv",
   "language": "python",
   "name": "python3"
  },
  "language_info": {
   "codemirror_mode": {
    "name": "ipython",
    "version": 3
   },
   "file_extension": ".py",
   "mimetype": "text/x-python",
   "name": "python",
   "nbconvert_exporter": "python",
   "pygments_lexer": "ipython3",
   "version": "3.9.17"
  },
  "orig_nbformat": 4
 },
 "nbformat": 4,
 "nbformat_minor": 2
}
